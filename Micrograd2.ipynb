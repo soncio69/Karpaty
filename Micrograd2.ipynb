{
 "cells": [
  {
   "cell_type": "markdown",
   "id": "196adccd",
   "metadata": {},
   "source": [
    "E necessario creare delle strutture di dati per contenere i valori che comporranno le espressioni matematiche che costituiscono i NN .\n",
    "\n",
    "Iniziamo da un semplice oggetto Value che rappresente un semplice valore scalare"
   ]
  },
  {
   "cell_type": "code",
   "execution_count": 12,
   "id": "995ca6f8",
   "metadata": {},
   "outputs": [
    {
     "data": {
      "text/plain": [
       "Value(data=2.0)"
      ]
     },
     "execution_count": 12,
     "metadata": {},
     "output_type": "execute_result"
    }
   ],
   "source": [
    "class Value:\n",
    "    \n",
    "    # Costruttore\n",
    "    def __init__(self, data):\n",
    "        self.data = data\n",
    "        \n",
    "    # Metodo utilizzato da Python per la visualizzazione dell'oggetto. Consente di impostare un visualizzazione user friendly\n",
    "    def __repr__(self):\n",
    "        return f\"Value(data={self.data})\"\n",
    "    \n",
    "    # Definisce l'operatore per la somma (+). Quando trova l'operatore +, Python chiama questo metodo\n",
    "    def __add__(self, other):\n",
    "        out = Value(self.data + other.data)\n",
    "        return out\n",
    "\n",
    "    # Definisce l'operatore per la prodottp (*). Quando trova l'operatore *, Python chiama questo metodo\n",
    "    def __mul__(self, other):\n",
    "        out = Value(self.data * other.data)\n",
    "        return out\n",
    "    \n"
   ]
  },
  {
   "cell_type": "code",
   "execution_count": 35,
   "id": "087a56a5",
   "metadata": {},
   "outputs": [
    {
     "data": {
      "text/plain": [
       "Value(data=2.0)"
      ]
     },
     "execution_count": 35,
     "metadata": {},
     "output_type": "execute_result"
    }
   ],
   "source": [
    "a = Value(2.0)\n",
    "a"
   ]
  },
  {
   "cell_type": "code",
   "execution_count": 36,
   "id": "e208fca5",
   "metadata": {},
   "outputs": [
    {
     "data": {
      "text/plain": [
       "Value(data=-1.0)"
      ]
     },
     "execution_count": 36,
     "metadata": {},
     "output_type": "execute_result"
    }
   ],
   "source": [
    "b = Value(-3.0)\n",
    "a + b"
   ]
  },
  {
   "cell_type": "code",
   "execution_count": 37,
   "id": "53986d9e",
   "metadata": {},
   "outputs": [
    {
     "data": {
      "text/plain": [
       "Value(data=-6.0)"
      ]
     },
     "execution_count": 37,
     "metadata": {},
     "output_type": "execute_result"
    }
   ],
   "source": [
    "a * b"
   ]
  },
  {
   "cell_type": "markdown",
   "id": "10b02b36",
   "metadata": {},
   "source": [
    "Dopo aver definito gli operatori somma e moltiplicazione è possibile eseguire l'espressione del notebook precedente<br>\n",
    "d = a*b + c"
   ]
  },
  {
   "cell_type": "code",
   "execution_count": 38,
   "id": "26c93c1e",
   "metadata": {},
   "outputs": [
    {
     "data": {
      "text/plain": [
       "Value(data=4.0)"
      ]
     },
     "execution_count": 38,
     "metadata": {},
     "output_type": "execute_result"
    }
   ],
   "source": [
    "c = Value(10)\n",
    "d = a*b + c\n",
    "d"
   ]
  },
  {
   "cell_type": "markdown",
   "id": "1a4b9796",
   "metadata": {},
   "source": [
    "A questo punto è necessario mantenere traccia dei valori che hanno contribuito al risultato finale e per far ciò è necessario modificare l'oggetto Value. <br>\n",
    "A tal fine introduciamo nel costruttore la variabile _childeren che di default è una tuple vuota.<br>\n",
    "Nei metodi __sum__ e __mul__ andiamo a valorizzare la variabile _children con gli elementi costituenti l'operazione\n",
    "\n",
    "E' infine necessario aggiungere all'interno dell'oggetto Value l'informazione di quale operazione ha creato l'oggetto.\n",
    "Anche questa variabile verrà inizializzata nel costruttore e valorizzata nei metodi __sum__ e __mul__"
   ]
  },
  {
   "cell_type": "code",
   "execution_count": 39,
   "id": "335a626a",
   "metadata": {},
   "outputs": [],
   "source": [
    "class Value:\n",
    "    \n",
    "    # Costruttore\n",
    "    def __init__(self, data, _children=(), _op=''):\n",
    "        self.data = data\n",
    "        self._prev = set(_children) # viene tenuto il set per ragioni di efficienza\n",
    "        self._op = _op\n",
    "        \n",
    "    # Metodo utilizzato da Python per la visualizzazione dell'oggetto. Consente di impostare un visualizzazione user friendly\n",
    "    def __repr__(self):\n",
    "        return f\"Value(data={self.data})\"\n",
    "    \n",
    "    # Definisce l'operatore per la somma (+). Quando trova l'operatore +, Python chiama questo metodo\n",
    "    def __add__(self, other):\n",
    "        out = Value(self.data + other.data, (self, other), '+')\n",
    "        return out\n",
    "\n",
    "    # Definisce l'operatore per la prodottp (*). Quando trova l'operatore *, Python chiama questo metodo\n",
    "    def __mul__(self, other):\n",
    "        out = Value(self.data * other.data, (self, other), '*')\n",
    "        return out"
   ]
  },
  {
   "cell_type": "code",
   "execution_count": 40,
   "id": "5af60aee",
   "metadata": {},
   "outputs": [
    {
     "data": {
      "text/plain": [
       "Value(data=4.0)"
      ]
     },
     "execution_count": 40,
     "metadata": {},
     "output_type": "execute_result"
    }
   ],
   "source": [
    "d = a*b + c\n",
    "d"
   ]
  },
  {
   "cell_type": "markdown",
   "id": "091ca144",
   "metadata": {},
   "source": [
    "E' ora possibile sapere quali sono i valori che hanno contribuito al valore finale dell'espressione"
   ]
  },
  {
   "cell_type": "code",
   "execution_count": 41,
   "id": "9e2551d3",
   "metadata": {},
   "outputs": [
    {
     "data": {
      "text/plain": [
       "{Value(data=-6.0), Value(data=10)}"
      ]
     },
     "execution_count": 41,
     "metadata": {},
     "output_type": "execute_result"
    }
   ],
   "source": [
    "d._prev"
   ]
  },
  {
   "cell_type": "code",
   "execution_count": 42,
   "id": "fe309be8",
   "metadata": {},
   "outputs": [
    {
     "data": {
      "text/plain": [
       "'+'"
      ]
     },
     "execution_count": 42,
     "metadata": {},
     "output_type": "execute_result"
    }
   ],
   "source": [
    "d._op"
   ]
  },
  {
   "cell_type": "code",
   "execution_count": null,
   "id": "db8d7219",
   "metadata": {},
   "outputs": [],
   "source": [
    "Utilizzando il package Graphviz, creiamo una funzione che ci consenta di visualizzare graficamente l'espressione matematica "
   ]
  },
  {
   "cell_type": "code",
   "execution_count": 58,
   "id": "6ed37002",
   "metadata": {},
   "outputs": [],
   "source": [
    "from graphviz import Digraph\n",
    "\n",
    "# Helper function che serve per ottenere tutti gli edge e i node presenti nel graph partendo dal nodo di root\n",
    "def trace(root):\n",
    "    \n",
    "    # inizializza i set vuoti\n",
    "    nodes, edges = set(), set()\n",
    "    \n",
    "    # Funzione ricorsiva che, dato un nodo, ne estre i children e li aggiunge ai set di Edge e Node\n",
    "    def build(v):\n",
    "        if v not in nodes:\n",
    "            nodes.add(v)\n",
    "            for child in v._prev:\n",
    "                edges.add((child, v))\n",
    "                build(child)\n",
    "                \n",
    "    # Chiamata iniziale alla funzione ricorsiva\n",
    "    build(root)\n",
    "    return nodes, edges\n",
    "\n",
    "# Funzione che richiama l'API di Graphviz per disegnare il grafo con i nodi e gli edge che compongono la funzione\n",
    "#\n",
    "def draw_dot(root, format='svg', rankdir='LR'):\n",
    "    \"\"\"\n",
    "    format: png | svg | ...\n",
    "    rankdir: TB (top to bottom graph) | LR (left to right)\n",
    "    \"\"\"\n",
    "    assert rankdir in ['LR', 'TB']\n",
    "    \n",
    "    # Chiamo Helper Function per estrarre gli edge e i node\n",
    "    nodes, edges = trace(root)\n",
    "    dot = Digraph(format=format, graph_attr={'rankdir': rankdir}) #, node_attr={'rankdir': 'TB'})\n",
    "    \n",
    "    for n in nodes:\n",
    "#        dot.node(name=str(id(n)), label = \"{ data %.4f | grad %.4f }\" % (n.data, n.grad), shape='record')\n",
    "#        dot.node(name=str(id(n)), label = \"{ data %.4f }\" % (n.data), shape='record')\n",
    "        dot.node(name=str(id(n)), label = \"{ %s | data %.4f }\" % (n.label, n.data), shape='record')\n",
    "        if n._op:\n",
    "            dot.node(name=str(id(n)) + n._op, label=n._op)\n",
    "            dot.edge(str(id(n)) + n._op, str(id(n)))\n",
    "    \n",
    "    for n1, n2 in edges:\n",
    "        dot.edge(str(id(n1)), str(id(n2)) + n2._op)\n",
    "    \n",
    "    return dot"
   ]
  },
  {
   "cell_type": "code",
   "execution_count": 59,
   "id": "4408ff16",
   "metadata": {},
   "outputs": [
    {
     "data": {
      "image/svg+xml": [
       "<?xml version=\"1.0\" encoding=\"UTF-8\" standalone=\"no\"?>\n",
       "<!DOCTYPE svg PUBLIC \"-//W3C//DTD SVG 1.1//EN\"\n",
       " \"http://www.w3.org/Graphics/SVG/1.1/DTD/svg11.dtd\">\n",
       "<!-- Generated by graphviz version 2.46.0 (20210118.1747)\n",
       " -->\n",
       "<!-- Pages: 1 -->\n",
       "<svg width=\"586pt\" height=\"127pt\"\n",
       " viewBox=\"0.00 0.00 586.00 127.00\" xmlns=\"http://www.w3.org/2000/svg\" xmlns:xlink=\"http://www.w3.org/1999/xlink\">\n",
       "<g id=\"graph0\" class=\"graph\" transform=\"scale(1 1) rotate(0) translate(4 123)\">\n",
       "<polygon fill=\"white\" stroke=\"transparent\" points=\"-4,4 -4,-123 582,-123 582,4 -4,4\"/>\n",
       "<!-- 1587405764784 -->\n",
       "<g id=\"node1\" class=\"node\">\n",
       "<title>1587405764784</title>\n",
       "<polygon fill=\"none\" stroke=\"black\" points=\"237,-27.5 237,-63.5 346,-63.5 346,-27.5 237,-27.5\"/>\n",
       "<text text-anchor=\"middle\" x=\"248.5\" y=\"-41.8\" font-family=\"Times New Roman,serif\" font-size=\"14.00\">e</text>\n",
       "<polyline fill=\"none\" stroke=\"black\" points=\"260,-27.5 260,-63.5 \"/>\n",
       "<text text-anchor=\"middle\" x=\"303\" y=\"-41.8\" font-family=\"Times New Roman,serif\" font-size=\"14.00\">data &#45;6.0000</text>\n",
       "</g>\n",
       "<!-- 1587405761328+ -->\n",
       "<g id=\"node6\" class=\"node\">\n",
       "<title>1587405761328+</title>\n",
       "<ellipse fill=\"none\" stroke=\"black\" cx=\"410\" cy=\"-72.5\" rx=\"27\" ry=\"18\"/>\n",
       "<text text-anchor=\"middle\" x=\"410\" y=\"-68.8\" font-family=\"Times New Roman,serif\" font-size=\"14.00\">+</text>\n",
       "</g>\n",
       "<!-- 1587405764784&#45;&gt;1587405761328+ -->\n",
       "<g id=\"edge3\" class=\"edge\">\n",
       "<title>1587405764784&#45;&gt;1587405761328+</title>\n",
       "<path fill=\"none\" stroke=\"black\" d=\"M346.32,-57.97C355.83,-60.18 365.5,-62.42 374.31,-64.46\"/>\n",
       "<polygon fill=\"black\" stroke=\"black\" points=\"373.66,-67.9 384.19,-66.75 375.24,-61.08 373.66,-67.9\"/>\n",
       "</g>\n",
       "<!-- 1587405764784* -->\n",
       "<g id=\"node2\" class=\"node\">\n",
       "<title>1587405764784*</title>\n",
       "<ellipse fill=\"none\" stroke=\"black\" cx=\"173\" cy=\"-45.5\" rx=\"27\" ry=\"18\"/>\n",
       "<text text-anchor=\"middle\" x=\"173\" y=\"-41.8\" font-family=\"Times New Roman,serif\" font-size=\"14.00\">*</text>\n",
       "</g>\n",
       "<!-- 1587405764784*&#45;&gt;1587405764784 -->\n",
       "<g id=\"edge1\" class=\"edge\">\n",
       "<title>1587405764784*&#45;&gt;1587405764784</title>\n",
       "<path fill=\"none\" stroke=\"black\" d=\"M200.14,-45.5C208.13,-45.5 217.28,-45.5 226.62,-45.5\"/>\n",
       "<polygon fill=\"black\" stroke=\"black\" points=\"226.79,-49 236.79,-45.5 226.79,-42 226.79,-49\"/>\n",
       "</g>\n",
       "<!-- 1587405757632 -->\n",
       "<g id=\"node3\" class=\"node\">\n",
       "<title>1587405757632</title>\n",
       "<polygon fill=\"none\" stroke=\"black\" points=\"0,-55.5 0,-91.5 110,-91.5 110,-55.5 0,-55.5\"/>\n",
       "<text text-anchor=\"middle\" x=\"12\" y=\"-69.8\" font-family=\"Times New Roman,serif\" font-size=\"14.00\">b</text>\n",
       "<polyline fill=\"none\" stroke=\"black\" points=\"24,-55.5 24,-91.5 \"/>\n",
       "<text text-anchor=\"middle\" x=\"67\" y=\"-69.8\" font-family=\"Times New Roman,serif\" font-size=\"14.00\">data &#45;3.0000</text>\n",
       "</g>\n",
       "<!-- 1587405757632&#45;&gt;1587405764784* -->\n",
       "<g id=\"edge5\" class=\"edge\">\n",
       "<title>1587405757632&#45;&gt;1587405764784*</title>\n",
       "<path fill=\"none\" stroke=\"black\" d=\"M110.26,-60.4C119.49,-58.18 128.84,-55.92 137.37,-53.86\"/>\n",
       "<polygon fill=\"black\" stroke=\"black\" points=\"138.42,-57.21 147.32,-51.46 136.78,-50.4 138.42,-57.21\"/>\n",
       "</g>\n",
       "<!-- 1587405765888 -->\n",
       "<g id=\"node4\" class=\"node\">\n",
       "<title>1587405765888</title>\n",
       "<polygon fill=\"none\" stroke=\"black\" points=\"3,-0.5 3,-36.5 107,-36.5 107,-0.5 3,-0.5\"/>\n",
       "<text text-anchor=\"middle\" x=\"14.5\" y=\"-14.8\" font-family=\"Times New Roman,serif\" font-size=\"14.00\">a</text>\n",
       "<polyline fill=\"none\" stroke=\"black\" points=\"26,-0.5 26,-36.5 \"/>\n",
       "<text text-anchor=\"middle\" x=\"66.5\" y=\"-14.8\" font-family=\"Times New Roman,serif\" font-size=\"14.00\">data 2.0000</text>\n",
       "</g>\n",
       "<!-- 1587405765888&#45;&gt;1587405764784* -->\n",
       "<g id=\"edge6\" class=\"edge\">\n",
       "<title>1587405765888&#45;&gt;1587405764784*</title>\n",
       "<path fill=\"none\" stroke=\"black\" d=\"M107.22,-30.42C117.47,-32.81 128.01,-35.26 137.53,-37.48\"/>\n",
       "<polygon fill=\"black\" stroke=\"black\" points=\"136.86,-40.91 147.39,-39.77 138.45,-34.1 136.86,-40.91\"/>\n",
       "</g>\n",
       "<!-- 1587405761328 -->\n",
       "<g id=\"node5\" class=\"node\">\n",
       "<title>1587405761328</title>\n",
       "<polygon fill=\"none\" stroke=\"black\" points=\"473,-54.5 473,-90.5 578,-90.5 578,-54.5 473,-54.5\"/>\n",
       "<text text-anchor=\"middle\" x=\"485\" y=\"-68.8\" font-family=\"Times New Roman,serif\" font-size=\"14.00\">d</text>\n",
       "<polyline fill=\"none\" stroke=\"black\" points=\"497,-54.5 497,-90.5 \"/>\n",
       "<text text-anchor=\"middle\" x=\"537.5\" y=\"-68.8\" font-family=\"Times New Roman,serif\" font-size=\"14.00\">data 4.0000</text>\n",
       "</g>\n",
       "<!-- 1587405761328+&#45;&gt;1587405761328 -->\n",
       "<g id=\"edge2\" class=\"edge\">\n",
       "<title>1587405761328+&#45;&gt;1587405761328</title>\n",
       "<path fill=\"none\" stroke=\"black\" d=\"M437.04,-72.5C444.74,-72.5 453.53,-72.5 462.49,-72.5\"/>\n",
       "<polygon fill=\"black\" stroke=\"black\" points=\"462.63,-76 472.63,-72.5 462.63,-69 462.63,-76\"/>\n",
       "</g>\n",
       "<!-- 1587405751152 -->\n",
       "<g id=\"node7\" class=\"node\">\n",
       "<title>1587405751152</title>\n",
       "<polygon fill=\"none\" stroke=\"black\" points=\"236,-82.5 236,-118.5 347,-118.5 347,-82.5 236,-82.5\"/>\n",
       "<text text-anchor=\"middle\" x=\"247.5\" y=\"-96.8\" font-family=\"Times New Roman,serif\" font-size=\"14.00\">c</text>\n",
       "<polyline fill=\"none\" stroke=\"black\" points=\"259,-82.5 259,-118.5 \"/>\n",
       "<text text-anchor=\"middle\" x=\"303\" y=\"-96.8\" font-family=\"Times New Roman,serif\" font-size=\"14.00\">data 10.0000</text>\n",
       "</g>\n",
       "<!-- 1587405751152&#45;&gt;1587405761328+ -->\n",
       "<g id=\"edge4\" class=\"edge\">\n",
       "<title>1587405751152&#45;&gt;1587405761328+</title>\n",
       "<path fill=\"none\" stroke=\"black\" d=\"M347.34,-87.32C356.57,-85.1 365.91,-82.86 374.44,-80.81\"/>\n",
       "<polygon fill=\"black\" stroke=\"black\" points=\"375.47,-84.16 384.38,-78.42 373.84,-77.35 375.47,-84.16\"/>\n",
       "</g>\n",
       "</g>\n",
       "</svg>\n"
      ],
      "text/plain": [
       "<graphviz.graphs.Digraph at 0x17198c13cd0>"
      ]
     },
     "execution_count": 59,
     "metadata": {},
     "output_type": "execute_result"
    }
   ],
   "source": [
    "draw_dot(d)"
   ]
  },
  {
   "cell_type": "markdown",
   "id": "a8676ee3",
   "metadata": {},
   "source": [
    "Per migliorare la visualizzazione andiamo ad implementare la classe Value aggiungendo la _label da visualizzare"
   ]
  },
  {
   "cell_type": "code",
   "execution_count": 60,
   "id": "932e4963",
   "metadata": {},
   "outputs": [],
   "source": [
    "class Value:\n",
    "    \n",
    "    # Costruttore\n",
    "    def __init__(self, data, _children=(), _op='', label=''):\n",
    "        self.data = data\n",
    "        self._prev = set(_children) # viene tenuto il set per ragioni di efficienza\n",
    "        self._op = _op\n",
    "        self.label = label\n",
    "        \n",
    "    # Metodo utilizzato da Python per la visualizzazione dell'oggetto. Consente di impostare un visualizzazione user friendly\n",
    "    def __repr__(self):\n",
    "        return f\"Value(data={self.data})\"\n",
    "    \n",
    "    # Definisce l'operatore per la somma (+). Quando trova l'operatore +, Python chiama questo metodo\n",
    "    def __add__(self, other):\n",
    "        out = Value(self.data + other.data, (self, other), '+')\n",
    "        return out\n",
    "\n",
    "    # Definisce l'operatore per la prodottp (*). Quando trova l'operatore *, Python chiama questo metodo\n",
    "    def __mul__(self, other):\n",
    "        out = Value(self.data * other.data, (self, other), '*')\n",
    "        return out"
   ]
  },
  {
   "cell_type": "markdown",
   "id": "6ac2e5a3",
   "metadata": {},
   "source": [
    "E' necessario reinizializzare i diversi Values object che costituiscono la nostra espressione per aggiungere le labels.<br>\n",
    "Aggiungiamo anche altro valore \"f\" e l'output finale \"L\""
   ]
  },
  {
   "cell_type": "code",
   "execution_count": 63,
   "id": "33bd438e",
   "metadata": {},
   "outputs": [
    {
     "data": {
      "text/plain": [
       "Value(data=-8.0)"
      ]
     },
     "execution_count": 63,
     "metadata": {},
     "output_type": "execute_result"
    }
   ],
   "source": [
    "a = Value(2.0, label='a')\n",
    "b = Value(-3.0, label='b')\n",
    "c = Value(10, label='c')\n",
    "e = a*b; e.label='e'\n",
    "d = e + c; d.label='d'\n",
    "f = Value(-2.0, label='f')\n",
    "L = d * f; L.label='L'\n",
    "L"
   ]
  },
  {
   "cell_type": "code",
   "execution_count": 64,
   "id": "cc8dd886",
   "metadata": {},
   "outputs": [
    {
     "data": {
      "image/svg+xml": [
       "<?xml version=\"1.0\" encoding=\"UTF-8\" standalone=\"no\"?>\n",
       "<!DOCTYPE svg PUBLIC \"-//W3C//DTD SVG 1.1//EN\"\n",
       " \"http://www.w3.org/Graphics/SVG/1.1/DTD/svg11.dtd\">\n",
       "<!-- Generated by graphviz version 2.46.0 (20210118.1747)\n",
       " -->\n",
       "<!-- Pages: 1 -->\n",
       "<svg width=\"825pt\" height=\"156pt\"\n",
       " viewBox=\"0.00 0.00 825.00 156.00\" xmlns=\"http://www.w3.org/2000/svg\" xmlns:xlink=\"http://www.w3.org/1999/xlink\">\n",
       "<g id=\"graph0\" class=\"graph\" transform=\"scale(1 1) rotate(0) translate(4 152)\">\n",
       "<polygon fill=\"white\" stroke=\"transparent\" points=\"-4,4 -4,-152 821,-152 821,4 -4,4\"/>\n",
       "<!-- 1587406038032 -->\n",
       "<g id=\"node1\" class=\"node\">\n",
       "<title>1587406038032</title>\n",
       "<polygon fill=\"none\" stroke=\"black\" points=\"0,-111.5 0,-147.5 110,-147.5 110,-111.5 0,-111.5\"/>\n",
       "<text text-anchor=\"middle\" x=\"12\" y=\"-125.8\" font-family=\"Times New Roman,serif\" font-size=\"14.00\">b</text>\n",
       "<polyline fill=\"none\" stroke=\"black\" points=\"24,-111.5 24,-147.5 \"/>\n",
       "<text text-anchor=\"middle\" x=\"67\" y=\"-125.8\" font-family=\"Times New Roman,serif\" font-size=\"14.00\">data &#45;3.0000</text>\n",
       "</g>\n",
       "<!-- 1587406037792* -->\n",
       "<g id=\"node5\" class=\"node\">\n",
       "<title>1587406037792*</title>\n",
       "<ellipse fill=\"none\" stroke=\"black\" cx=\"173\" cy=\"-101.5\" rx=\"27\" ry=\"18\"/>\n",
       "<text text-anchor=\"middle\" x=\"173\" y=\"-97.8\" font-family=\"Times New Roman,serif\" font-size=\"14.00\">*</text>\n",
       "</g>\n",
       "<!-- 1587406038032&#45;&gt;1587406037792* -->\n",
       "<g id=\"edge5\" class=\"edge\">\n",
       "<title>1587406038032&#45;&gt;1587406037792*</title>\n",
       "<path fill=\"none\" stroke=\"black\" d=\"M110.26,-116.4C119.49,-114.18 128.84,-111.92 137.37,-109.86\"/>\n",
       "<polygon fill=\"black\" stroke=\"black\" points=\"138.42,-113.21 147.32,-107.46 136.78,-106.4 138.42,-113.21\"/>\n",
       "</g>\n",
       "<!-- 1587406039184 -->\n",
       "<g id=\"node2\" class=\"node\">\n",
       "<title>1587406039184</title>\n",
       "<polygon fill=\"none\" stroke=\"black\" points=\"236,-28.5 236,-64.5 347,-64.5 347,-28.5 236,-28.5\"/>\n",
       "<text text-anchor=\"middle\" x=\"247.5\" y=\"-42.8\" font-family=\"Times New Roman,serif\" font-size=\"14.00\">c</text>\n",
       "<polyline fill=\"none\" stroke=\"black\" points=\"259,-28.5 259,-64.5 \"/>\n",
       "<text text-anchor=\"middle\" x=\"303\" y=\"-42.8\" font-family=\"Times New Roman,serif\" font-size=\"14.00\">data 10.0000</text>\n",
       "</g>\n",
       "<!-- 1587406044560+ -->\n",
       "<g id=\"node8\" class=\"node\">\n",
       "<title>1587406044560+</title>\n",
       "<ellipse fill=\"none\" stroke=\"black\" cx=\"410\" cy=\"-73.5\" rx=\"27\" ry=\"18\"/>\n",
       "<text text-anchor=\"middle\" x=\"410\" y=\"-69.8\" font-family=\"Times New Roman,serif\" font-size=\"14.00\">+</text>\n",
       "</g>\n",
       "<!-- 1587406039184&#45;&gt;1587406044560+ -->\n",
       "<g id=\"edge8\" class=\"edge\">\n",
       "<title>1587406039184&#45;&gt;1587406044560+</title>\n",
       "<path fill=\"none\" stroke=\"black\" d=\"M347.34,-59.21C356.57,-61.35 365.91,-63.51 374.44,-65.49\"/>\n",
       "<polygon fill=\"black\" stroke=\"black\" points=\"373.85,-68.95 384.38,-67.79 375.43,-62.13 373.85,-68.95\"/>\n",
       "</g>\n",
       "<!-- 1587406034144 -->\n",
       "<g id=\"node3\" class=\"node\">\n",
       "<title>1587406034144</title>\n",
       "<polygon fill=\"none\" stroke=\"black\" points=\"473,-0.5 473,-36.5 580,-36.5 580,-0.5 473,-0.5\"/>\n",
       "<text text-anchor=\"middle\" x=\"483.5\" y=\"-14.8\" font-family=\"Times New Roman,serif\" font-size=\"14.00\">f</text>\n",
       "<polyline fill=\"none\" stroke=\"black\" points=\"494,-0.5 494,-36.5 \"/>\n",
       "<text text-anchor=\"middle\" x=\"537\" y=\"-14.8\" font-family=\"Times New Roman,serif\" font-size=\"14.00\">data &#45;2.0000</text>\n",
       "</g>\n",
       "<!-- 1587406043552* -->\n",
       "<g id=\"node10\" class=\"node\">\n",
       "<title>1587406043552*</title>\n",
       "<ellipse fill=\"none\" stroke=\"black\" cx=\"643\" cy=\"-45.5\" rx=\"27\" ry=\"18\"/>\n",
       "<text text-anchor=\"middle\" x=\"643\" y=\"-41.8\" font-family=\"Times New Roman,serif\" font-size=\"14.00\">*</text>\n",
       "</g>\n",
       "<!-- 1587406034144&#45;&gt;1587406043552* -->\n",
       "<g id=\"edge4\" class=\"edge\">\n",
       "<title>1587406034144&#45;&gt;1587406043552*</title>\n",
       "<path fill=\"none\" stroke=\"black\" d=\"M580.06,-30.89C589.25,-33.06 598.61,-35.27 607.17,-37.29\"/>\n",
       "<polygon fill=\"black\" stroke=\"black\" points=\"606.62,-40.75 617.16,-39.64 608.23,-33.94 606.62,-40.75\"/>\n",
       "</g>\n",
       "<!-- 1587406037792 -->\n",
       "<g id=\"node4\" class=\"node\">\n",
       "<title>1587406037792</title>\n",
       "<polygon fill=\"none\" stroke=\"black\" points=\"237,-83.5 237,-119.5 346,-119.5 346,-83.5 237,-83.5\"/>\n",
       "<text text-anchor=\"middle\" x=\"248.5\" y=\"-97.8\" font-family=\"Times New Roman,serif\" font-size=\"14.00\">e</text>\n",
       "<polyline fill=\"none\" stroke=\"black\" points=\"260,-83.5 260,-119.5 \"/>\n",
       "<text text-anchor=\"middle\" x=\"303\" y=\"-97.8\" font-family=\"Times New Roman,serif\" font-size=\"14.00\">data &#45;6.0000</text>\n",
       "</g>\n",
       "<!-- 1587406037792&#45;&gt;1587406044560+ -->\n",
       "<g id=\"edge9\" class=\"edge\">\n",
       "<title>1587406037792&#45;&gt;1587406044560+</title>\n",
       "<path fill=\"none\" stroke=\"black\" d=\"M346.32,-88.57C355.83,-86.28 365.5,-83.95 374.31,-81.84\"/>\n",
       "<polygon fill=\"black\" stroke=\"black\" points=\"375.28,-85.2 384.19,-79.46 373.65,-78.4 375.28,-85.2\"/>\n",
       "</g>\n",
       "<!-- 1587406037792*&#45;&gt;1587406037792 -->\n",
       "<g id=\"edge1\" class=\"edge\">\n",
       "<title>1587406037792*&#45;&gt;1587406037792</title>\n",
       "<path fill=\"none\" stroke=\"black\" d=\"M200.14,-101.5C208.13,-101.5 217.28,-101.5 226.62,-101.5\"/>\n",
       "<polygon fill=\"black\" stroke=\"black\" points=\"226.79,-105 236.79,-101.5 226.79,-98 226.79,-105\"/>\n",
       "</g>\n",
       "<!-- 1587406031744 -->\n",
       "<g id=\"node6\" class=\"node\">\n",
       "<title>1587406031744</title>\n",
       "<polygon fill=\"none\" stroke=\"black\" points=\"3,-56.5 3,-92.5 107,-92.5 107,-56.5 3,-56.5\"/>\n",
       "<text text-anchor=\"middle\" x=\"14.5\" y=\"-70.8\" font-family=\"Times New Roman,serif\" font-size=\"14.00\">a</text>\n",
       "<polyline fill=\"none\" stroke=\"black\" points=\"26,-56.5 26,-92.5 \"/>\n",
       "<text text-anchor=\"middle\" x=\"66.5\" y=\"-70.8\" font-family=\"Times New Roman,serif\" font-size=\"14.00\">data 2.0000</text>\n",
       "</g>\n",
       "<!-- 1587406031744&#45;&gt;1587406037792* -->\n",
       "<g id=\"edge6\" class=\"edge\">\n",
       "<title>1587406031744&#45;&gt;1587406037792*</title>\n",
       "<path fill=\"none\" stroke=\"black\" d=\"M107.22,-86.42C117.47,-88.81 128.01,-91.26 137.53,-93.48\"/>\n",
       "<polygon fill=\"black\" stroke=\"black\" points=\"136.86,-96.91 147.39,-95.77 138.45,-90.1 136.86,-96.91\"/>\n",
       "</g>\n",
       "<!-- 1587406044560 -->\n",
       "<g id=\"node7\" class=\"node\">\n",
       "<title>1587406044560</title>\n",
       "<polygon fill=\"none\" stroke=\"black\" points=\"474,-55.5 474,-91.5 579,-91.5 579,-55.5 474,-55.5\"/>\n",
       "<text text-anchor=\"middle\" x=\"486\" y=\"-69.8\" font-family=\"Times New Roman,serif\" font-size=\"14.00\">d</text>\n",
       "<polyline fill=\"none\" stroke=\"black\" points=\"498,-55.5 498,-91.5 \"/>\n",
       "<text text-anchor=\"middle\" x=\"538.5\" y=\"-69.8\" font-family=\"Times New Roman,serif\" font-size=\"14.00\">data 4.0000</text>\n",
       "</g>\n",
       "<!-- 1587406044560&#45;&gt;1587406043552* -->\n",
       "<g id=\"edge7\" class=\"edge\">\n",
       "<title>1587406044560&#45;&gt;1587406043552*</title>\n",
       "<path fill=\"none\" stroke=\"black\" d=\"M579.06,-60.89C588.61,-58.56 598.38,-56.17 607.29,-53.99\"/>\n",
       "<polygon fill=\"black\" stroke=\"black\" points=\"608.4,-57.32 617.28,-51.55 606.73,-50.52 608.4,-57.32\"/>\n",
       "</g>\n",
       "<!-- 1587406044560+&#45;&gt;1587406044560 -->\n",
       "<g id=\"edge2\" class=\"edge\">\n",
       "<title>1587406044560+&#45;&gt;1587406044560</title>\n",
       "<path fill=\"none\" stroke=\"black\" d=\"M437.27,-73.5C445.22,-73.5 454.31,-73.5 463.57,-73.5\"/>\n",
       "<polygon fill=\"black\" stroke=\"black\" points=\"463.63,-77 473.63,-73.5 463.63,-70 463.63,-77\"/>\n",
       "</g>\n",
       "<!-- 1587406043552 -->\n",
       "<g id=\"node9\" class=\"node\">\n",
       "<title>1587406043552</title>\n",
       "<polygon fill=\"none\" stroke=\"black\" points=\"706,-27.5 706,-63.5 817,-63.5 817,-27.5 706,-27.5\"/>\n",
       "<text text-anchor=\"middle\" x=\"718.5\" y=\"-41.8\" font-family=\"Times New Roman,serif\" font-size=\"14.00\">L</text>\n",
       "<polyline fill=\"none\" stroke=\"black\" points=\"731,-27.5 731,-63.5 \"/>\n",
       "<text text-anchor=\"middle\" x=\"774\" y=\"-41.8\" font-family=\"Times New Roman,serif\" font-size=\"14.00\">data &#45;8.0000</text>\n",
       "</g>\n",
       "<!-- 1587406043552*&#45;&gt;1587406043552 -->\n",
       "<g id=\"edge3\" class=\"edge\">\n",
       "<title>1587406043552*&#45;&gt;1587406043552</title>\n",
       "<path fill=\"none\" stroke=\"black\" d=\"M670.14,-45.5C677.85,-45.5 686.64,-45.5 695.64,-45.5\"/>\n",
       "<polygon fill=\"black\" stroke=\"black\" points=\"695.85,-49 705.85,-45.5 695.85,-42 695.85,-49\"/>\n",
       "</g>\n",
       "</g>\n",
       "</svg>\n"
      ],
      "text/plain": [
       "<graphviz.graphs.Digraph at 0x17198c5ec20>"
      ]
     },
     "execution_count": 64,
     "metadata": {},
     "output_type": "execute_result"
    }
   ],
   "source": [
    "draw_dot(L)"
   ]
  },
  {
   "cell_type": "markdown",
   "id": "b4867e8c",
   "metadata": {},
   "source": [
    "Fino a questo punto abbiamo costruito una espressione matematica che, partendo da una serie di input rappresentati da valori scalari, ottiene un risultato finale \"L\".<br>\n",
    "Tutto ciò corrisponde al \"forward pass\"\n",
    "Prossimo step è eseguire la backprop"
   ]
  },
  {
   "cell_type": "code",
   "execution_count": null,
   "id": "d8d1794c",
   "metadata": {},
   "outputs": [],
   "source": []
  }
 ],
 "metadata": {
  "kernelspec": {
   "display_name": "Python [conda env:pytorch-env]",
   "language": "python",
   "name": "conda-env-pytorch-env-py"
  },
  "language_info": {
   "codemirror_mode": {
    "name": "ipython",
    "version": 3
   },
   "file_extension": ".py",
   "mimetype": "text/x-python",
   "name": "python",
   "nbconvert_exporter": "python",
   "pygments_lexer": "ipython3",
   "version": "3.10.9"
  }
 },
 "nbformat": 4,
 "nbformat_minor": 5
}
