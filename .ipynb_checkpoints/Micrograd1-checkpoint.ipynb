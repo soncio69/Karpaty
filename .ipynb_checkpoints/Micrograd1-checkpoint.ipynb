{
 "cells": [
  {
   "cell_type": "markdown",
   "id": "bf849ba5",
   "metadata": {},
   "source": [
    "Attraverso questo notebook andremo ad implementare un autograd engine, chiamato Micrograd, che implementa sia il forward pass che l'algoritmo di backpropagation (rappresentano il cuore di qualsiasi framework per il training di Neural Network).\n",
    "\n",
    "L'algoritmo di backprop consente di calcolare in modo efficiente il gradient della loss function rispetto ai weights di un NN in modo da modificare questi weights in modo iterativo al fine di minimizzare la loss function in modo da ottimizzare le prestazioni del NN\n",
    "\n",
    "Micrograd consente di calcolare esptessioni matematiche. Mentre effettua il calcolo, Micrograd memorizza i diversi step necessari e i componenti per l'effettuazione del calcolo.\n",
    "In questo modo è in grado di calcolare il gradient dei diversi nodi rispetto al risultato ottenuto dall'espressione.\n",
    "Valuta la derivata del risultato rispetto a tutti i nodi e rispetto agli input.\n"
   ]
  },
  {
   "cell_type": "markdown",
   "id": "803f4aea",
   "metadata": {},
   "source": [
    "Un NN è una particolare classe di espressione matematica."
   ]
  },
  {
   "cell_type": "markdown",
   "id": "76b69ed1",
   "metadata": {},
   "source": [
    "E' molto importate capire cos'è una derivata"
   ]
  },
  {
   "cell_type": "code",
   "execution_count": 3,
   "id": "f17a663f",
   "metadata": {},
   "outputs": [],
   "source": [
    "import math\n",
    "import numpy as np\n",
    "import matplotlib.pyplot as plt\n",
    "%matplotlib inline"
   ]
  },
  {
   "cell_type": "markdown",
   "id": "7a13c593",
   "metadata": {},
   "source": [
    "Definiamo una funzione che riceve uno scalar e restituisce uno scalar (una parabola)"
   ]
  },
  {
   "cell_type": "code",
   "execution_count": 6,
   "id": "a1196b34",
   "metadata": {},
   "outputs": [],
   "source": [
    "def f(x):\n",
    "    return 3*x**2 - 4*x + 5"
   ]
  },
  {
   "cell_type": "code",
   "execution_count": 7,
   "id": "fe7e2b6e",
   "metadata": {},
   "outputs": [
    {
     "data": {
      "text/plain": [
       "20.0"
      ]
     },
     "execution_count": 7,
     "metadata": {},
     "output_type": "execute_result"
    }
   ],
   "source": [
    "f(3.0)"
   ]
  },
  {
   "cell_type": "markdown",
   "id": "eca8d6d4",
   "metadata": {},
   "source": [
    "Creiamo un set di valori scalari da utilizzare per la nostra funzione"
   ]
  },
  {
   "cell_type": "code",
   "execution_count": 9,
   "id": "fd2cd1ba",
   "metadata": {},
   "outputs": [
    {
     "data": {
      "text/plain": [
       "array([-5.  , -4.75, -4.5 , -4.25, -4.  , -3.75, -3.5 , -3.25, -3.  ,\n",
       "       -2.75, -2.5 , -2.25, -2.  , -1.75, -1.5 , -1.25, -1.  , -0.75,\n",
       "       -0.5 , -0.25,  0.  ,  0.25,  0.5 ,  0.75,  1.  ,  1.25,  1.5 ,\n",
       "        1.75,  2.  ,  2.25,  2.5 ,  2.75,  3.  ,  3.25,  3.5 ,  3.75,\n",
       "        4.  ,  4.25,  4.5 ,  4.75])"
      ]
     },
     "execution_count": 9,
     "metadata": {},
     "output_type": "execute_result"
    }
   ],
   "source": [
    "xs = np.arange(-5 , 5, 0.25) # ottiene valori da -5 a 5 con step di 0.25\n",
    "xs"
   ]
  },
  {
   "cell_type": "markdown",
   "id": "01918449",
   "metadata": {},
   "source": [
    "E' possibile richiamare la funzione su questi valori"
   ]
  },
  {
   "cell_type": "code",
   "execution_count": 10,
   "id": "77608972",
   "metadata": {},
   "outputs": [
    {
     "data": {
      "text/plain": [
       "array([100.    ,  91.6875,  83.75  ,  76.1875,  69.    ,  62.1875,\n",
       "        55.75  ,  49.6875,  44.    ,  38.6875,  33.75  ,  29.1875,\n",
       "        25.    ,  21.1875,  17.75  ,  14.6875,  12.    ,   9.6875,\n",
       "         7.75  ,   6.1875,   5.    ,   4.1875,   3.75  ,   3.6875,\n",
       "         4.    ,   4.6875,   5.75  ,   7.1875,   9.    ,  11.1875,\n",
       "        13.75  ,  16.6875,  20.    ,  23.6875,  27.75  ,  32.1875,\n",
       "        37.    ,  42.1875,  47.75  ,  53.6875])"
      ]
     },
     "execution_count": 10,
     "metadata": {},
     "output_type": "execute_result"
    }
   ],
   "source": [
    "ys = f(xs)\n",
    "ys"
   ]
  },
  {
   "cell_type": "code",
   "execution_count": 11,
   "id": "903c174e",
   "metadata": {},
   "outputs": [
    {
     "data": {
      "text/plain": [
       "[<matplotlib.lines.Line2D at 0x20af8ac7790>]"
      ]
     },
     "execution_count": 11,
     "metadata": {},
     "output_type": "execute_result"
    },
    {
     "data": {
      "image/png": "[encoded data removed]",
      "text/plain": [
       "<Figure size 640x480 with 1 Axes>"
      ]
     },
     "metadata": {},
     "output_type": "display_data"
    }
   ],
   "source": [
    "plt.plot(xs, ys)"
   ]
  },
  {
   "attachments": {
    "immagine.png": {
     "image/png": "[encoded data removed]"
    }
   },
   "cell_type": "markdown",
   "id": "720c7164",
   "metadata": {},
   "source": [
    "La derivata di questa funzione è definita come\n",
    "![immagine.png](attachment:immagine.png)\n",
    "Vediamo come calcolare questa derivata utilizzando il concetto di limite"
   ]
  },
  {
   "cell_type": "code",
   "execution_count": 16,
   "id": "a41b2549",
   "metadata": {},
   "outputs": [
    {
     "data": {
      "text/plain": [
       "14.00300000000243"
      ]
     },
     "execution_count": 16,
     "metadata": {},
     "output_type": "execute_result"
    }
   ],
   "source": [
    "h = 0.001\n",
    "x = 3.0\n",
    "(f(x + h) - f(x))/h"
   ]
  },
  {
   "cell_type": "markdown",
   "id": "b826c750",
   "metadata": {},
   "source": [
    "Questo valore rappresenta la slope (o almeno una approssimazione -> h dovrebbe essere molto più piccolo) e quindi la derivata della funzione a x = 3 è uguale a 14\n",
    "\n",
    "E' possibile ottenere lo stesso risultato calcolando la derivata della funzione 3x*2 - 4x + 5 in modo analitico:\n",
    "6x - 4 = 63 - 4 = 14"
   ]
  },
  {
   "cell_type": "markdown",
   "id": "b7bbc8c5",
   "metadata": {},
   "source": [
    "Vediamo ora con una espressione più complessa (con 3 variabili scalar)"
   ]
  },
  {
   "cell_type": "code",
   "execution_count": 19,
   "id": "fc0dfa62",
   "metadata": {},
   "outputs": [
    {
     "name": "stdout",
     "output_type": "stream",
     "text": [
      "4.0\n"
     ]
    }
   ],
   "source": [
    "a = 2.0\n",
    "b = -3.0\n",
    "c = 10.0\n",
    "d = a*b +c\n",
    "print(d)"
   ]
  },
  {
   "cell_type": "markdown",
   "id": "a65f3c5b",
   "metadata": {},
   "source": [
    "Vediamo ora la derivata dell'output (d) rispetto ai 3 valori di input (a,b,c).<br>\n",
    "Per questo calcolo utilizzeremo i metodo precedente definendo un valore molto basso di h"
   ]
  },
  {
   "cell_type": "code",
   "execution_count": 22,
   "id": "f8f96ec0",
   "metadata": {},
   "outputs": [
    {
     "name": "stdout",
     "output_type": "stream",
     "text": [
      "d1 4.0\n",
      "d2 3.999699999999999\n",
      "slope -3.000000000010772\n"
     ]
    }
   ],
   "source": [
    "h = 0.0001\n",
    "\n",
    "# inputs\n",
    "a = 2.0\n",
    "b = -3.0\n",
    "c = 10.0\n",
    "\n",
    "# output\n",
    "d1 = a*b +c\n",
    "\n",
    "# derivata di d rispetto ad a\n",
    "a += h\n",
    "d2 = a*b +c\n",
    "\n",
    "print('d1', d1)\n",
    "print('d2', d2)\n",
    "print('slope', (d2 - d1)/h)"
   ]
  },
  {
   "cell_type": "markdown",
   "id": "393489f9",
   "metadata": {},
   "source": [
    "Questo risultato è coerente con il calcolo analitico in quanto la derivata della funzione a*b +c rispetto ad a è uguale a b che quindi è uguale a -3\n",
    "\n",
    "Vediamo ora il calcolo della derivata di d rispetto a b"
   ]
  },
  {
   "cell_type": "code",
   "execution_count": 25,
   "id": "ab9199f1",
   "metadata": {},
   "outputs": [
    {
     "name": "stdout",
     "output_type": "stream",
     "text": [
      "d1 4.0\n",
      "d2 4.0002\n",
      "slope 2.0000000000042206\n"
     ]
    }
   ],
   "source": [
    "# inputs\n",
    "a = 2.0\n",
    "b = -3.0\n",
    "c = 10.0\n",
    "\n",
    "# output\n",
    "d1 = a*b +c\n",
    "# derivata di d rispetto ad b\n",
    "b += h\n",
    "d2 = a*b +c\n",
    "\n",
    "print('d1', d1)\n",
    "print('d2', d2)\n",
    "print('slope', (d2 - d1)/h)"
   ]
  },
  {
   "cell_type": "markdown",
   "id": "8af248ae",
   "metadata": {},
   "source": [
    "Anche in questo caso è coerente con quanto calcolato analiticamente. La derivata della funzione a*b +c rispetto ad b è uguale ad a che quindi è uguale a 2\n",
    "\n",
    "Vediamo infine il calcolo della derivata di d rispetto a c"
   ]
  },
  {
   "cell_type": "code",
   "execution_count": 27,
   "id": "37aa5717",
   "metadata": {},
   "outputs": [
    {
     "name": "stdout",
     "output_type": "stream",
     "text": [
      "d1 4.0\n",
      "d2 4.0001\n",
      "slope 0.9999999999976694\n"
     ]
    }
   ],
   "source": [
    "# inputs\n",
    "a = 2.0\n",
    "b = -3.0\n",
    "c = 10.0\n",
    "\n",
    "# output\n",
    "d1 = a*b +c\n",
    "# derivata di d rispetto ad b\n",
    "c += h\n",
    "d2 = a*b +c\n",
    "\n",
    "print('d1', d1)\n",
    "print('d2', d2)\n",
    "print('slope', (d2 - d1)/h)"
   ]
  },
  {
   "cell_type": "code",
   "execution_count": null,
   "id": "a9f9c1bb",
   "metadata": {},
   "outputs": [],
   "source": []
  }
 ],
 "metadata": {
  "kernelspec": {
   "display_name": "Python [conda env:pytorch-env]",
   "language": "python",
   "name": "conda-env-pytorch-env-py"
  },
  "language_info": {
   "codemirror_mode": {
    "name": "ipython",
    "version": 3
   },
   "file_extension": ".py",
   "mimetype": "text/x-python",
   "name": "python",
   "nbconvert_exporter": "python",
   "pygments_lexer": "ipython3",
   "version": "3.10.9"
  }
 },
 "nbformat": 4,
 "nbformat_minor": 5
}
