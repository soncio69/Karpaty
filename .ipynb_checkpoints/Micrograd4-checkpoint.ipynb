{
 "cells": [
  {
   "cell_type": "code",
   "execution_count": 15,
   "id": "f604f11e",
   "metadata": {},
   "outputs": [],
   "source": [
    "from graphviz import Digraph\n",
    "\n",
    "# Helper function che serve per ottenere tutti gli edge e i node presenti nel graph partendo dal nodo di root\n",
    "def trace(root):\n",
    "    \n",
    "    # inizializza i set vuoti\n",
    "    nodes, edges = set(), set()\n",
    "    \n",
    "    # Funzione ricorsiva che, dato un nodo, ne estre i children e li aggiunge ai set di Edge e Node\n",
    "    def build(v):\n",
    "        if v not in nodes:\n",
    "            nodes.add(v)\n",
    "            for child in v._prev:\n",
    "                edges.add((child, v))\n",
    "                build(child)\n",
    "                \n",
    "    # Chiamata iniziale alla funzione ricorsiva\n",
    "    build(root)\n",
    "    return nodes, edges\n",
    "\n",
    "# Funzione che richiama l'API di Graphviz per disegnare il grafo con i nodi e gli edge che compongono la funzione\n",
    "#\n",
    "def draw_dot(root, format='svg', rankdir='LR'):\n",
    "    \"\"\"\n",
    "    format: png | svg | ...\n",
    "    rankdir: TB (top to bottom graph) | LR (left to right)\n",
    "    \"\"\"\n",
    "    assert rankdir in ['LR', 'TB']\n",
    "    \n",
    "    # Chiamo Helper Function per estrarre gli edge e i node\n",
    "    nodes, edges = trace(root)\n",
    "    dot = Digraph(format=format, graph_attr={'rankdir': rankdir}) #, node_attr={'rankdir': 'TB'})\n",
    "    \n",
    "    for n in nodes:\n",
    "#        dot.node(name=str(id(n)), label = \"{ data %.4f | grad %.4f }\" % (n.data, n.grad), shape='record')\n",
    "#        dot.node(name=str(id(n)), label = \"{ data %.4f }\" % (n.data), shape='record')\n",
    "        dot.node(name=str(id(n)), label = \"{ %s | data %.4f | grad %.4f }\" % (n.label, n.data, n.grad), shape='record')\n",
    "        if n._op:\n",
    "            dot.node(name=str(id(n)) + n._op, label=n._op)\n",
    "            dot.edge(str(id(n)) + n._op, str(id(n)))\n",
    "    \n",
    "    for n1, n2 in edges:\n",
    "        dot.edge(str(id(n1)), str(id(n2)) + n2._op)\n",
    "    \n",
    "    return dot"
   ]
  },
  {
   "cell_type": "code",
   "execution_count": 16,
   "id": "20dd5ec1",
   "metadata": {},
   "outputs": [],
   "source": [
    "class Value:\n",
    "    \n",
    "    # Costruttore\n",
    "    def __init__(self, data, _children=(), _op='', label=''):\n",
    "        self.data = data\n",
    "        \n",
    "        self.grad = 0.0    # Inizializzato a 0\n",
    "        \n",
    "        self._prev = set(_children) # viene tenuto il set per ragioni di efficienza\n",
    "        self._op = _op\n",
    "        self.label = label\n",
    "        \n",
    "    # Metodo utilizzato da Python per la visualizzazione dell'oggetto. Consente di impostare un visualizzazione user friendly\n",
    "    def __repr__(self):\n",
    "        return f\"Value(data={self.data})\"\n",
    "    \n",
    "    # Definisce l'operatore per la somma (+). Quando trova l'operatore +, Python chiama questo metodo\n",
    "    def __add__(self, other):\n",
    "        out = Value(self.data + other.data, (self, other), '+')\n",
    "        return out\n",
    "\n",
    "    # Definisce l'operatore per la prodottp (*). Quando trova l'operatore *, Python chiama questo metodo\n",
    "    def __mul__(self, other):\n",
    "        out = Value(self.data * other.data, (self, other), '*')\n",
    "        return out"
   ]
  },
  {
   "cell_type": "markdown",
   "id": "acec9710",
   "metadata": {},
   "source": [
    "Vediamo adesso come eseguire la backprop "
   ]
  }
 ],
 "metadata": {
  "kernelspec": {
   "display_name": "Python [conda env:pytorch-env]",
   "language": "python",
   "name": "conda-env-pytorch-env-py"
  },
  "language_info": {
   "codemirror_mode": {
    "name": "ipython",
    "version": 3
   },
   "file_extension": ".py",
   "mimetype": "text/x-python",
   "name": "python",
   "nbconvert_exporter": "python",
   "pygments_lexer": "ipython3",
   "version": "3.10.9"
  }
 },
 "nbformat": 4,
 "nbformat_minor": 5
}
